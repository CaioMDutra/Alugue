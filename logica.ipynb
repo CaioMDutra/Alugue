{
  "nbformat": 4,
  "nbformat_minor": 0,
  "metadata": {
    "colab": {
      "provenance": [],
      "authorship_tag": "ABX9TyMpdc/0ZwPl1miRXy7RIClY",
      "include_colab_link": true
    },
    "kernelspec": {
      "name": "python3",
      "display_name": "Python 3"
    },
    "language_info": {
      "name": "python"
    }
  },
  "cells": [
    {
      "cell_type": "markdown",
      "metadata": {
        "id": "view-in-github",
        "colab_type": "text"
      },
      "source": [
        "<a href=\"https://colab.research.google.com/github/CaioMDutra/Alugue/blob/main/logica.ipynb\" target=\"_parent\"><img src=\"https://colab.research.google.com/assets/colab-badge.svg\" alt=\"Open In Colab\"/></a>"
      ]
    },
    {
      "cell_type": "code",
      "execution_count": null,
      "metadata": {
        "colab": {
          "base_uri": "https://localhost:8080/"
        },
        "id": "fa44De-uTM00",
        "outputId": "54529f91-c128-4818-b962-c83d6f8e66cc"
      },
      "outputs": [
        {
          "output_type": "execute_result",
          "data": {
            "text/plain": [
              "6"
            ]
          },
          "metadata": {},
          "execution_count": 2
        }
      ],
      "source": [
        "num = 2\n",
        "num2 = 4\n",
        "soma = num+num2\n",
        "soma"
      ]
    },
    {
      "cell_type": "code",
      "source": [
        "soma"
      ],
      "metadata": {
        "colab": {
          "base_uri": "https://localhost:8080/"
        },
        "id": "4dbYraBXUId-",
        "outputId": "a9f1f54e-d9b0-4d6b-c1cb-a4456dc51704"
      },
      "execution_count": null,
      "outputs": [
        {
          "output_type": "execute_result",
          "data": {
            "text/plain": [
              "6"
            ]
          },
          "metadata": {},
          "execution_count": 3
        }
      ]
    },
    {
      "cell_type": "code",
      "source": [
        "print(f'a soma de {num} e {num2} é igual a {soma}')"
      ],
      "metadata": {
        "colab": {
          "base_uri": "https://localhost:8080/"
        },
        "id": "Q7_7Yl_oUPWc",
        "outputId": "2504455d-0642-40d9-f58c-20d0fc38ad85"
      },
      "execution_count": null,
      "outputs": [
        {
          "output_type": "stream",
          "name": "stdout",
          "text": [
            "a soma de 2 e 4 é igual a 6\n"
          ]
        }
      ]
    },
    {
      "cell_type": "code",
      "source": [
        "def soma_numeros():\n",
        "  num = int(input('digite um numero' ))\n",
        "  num2 = int(input('digite o segundo numero' ))\n",
        "  soma = num + num2\n",
        "  print(f'a soma de {num} e {num2} é igual a {soma}')\n"
      ],
      "metadata": {
        "id": "WJGqVeQdUvxn"
      },
      "execution_count": null,
      "outputs": []
    },
    {
      "cell_type": "code",
      "source": [
        "soma_numeros()"
      ],
      "metadata": {
        "colab": {
          "base_uri": "https://localhost:8080/"
        },
        "id": "oMHKr-FYV8Db",
        "outputId": "0c1db359-18b7-4c56-cde7-c547d1e60fb6"
      },
      "execution_count": null,
      "outputs": [
        {
          "output_type": "stream",
          "name": "stdout",
          "text": [
            "digite um numero3\n",
            "digite o segundo numero7\n",
            "a soma de 3 e 7 é igual a 10\n"
          ]
        }
      ]
    },
    {
      "cell_type": "code",
      "source": [
        "idade = int(input('Qual a sua idade? '))\n",
        "\n",
        "def pode_dirigir(idade):\n",
        "  if idade >= 18:\n",
        "    print('Pode dirigir!')\n",
        "  else:\n",
        "   print('Vai tirar sua habilitação')"
      ],
      "metadata": {
        "colab": {
          "base_uri": "https://localhost:8080/"
        },
        "id": "THxG_n6yazAN",
        "outputId": "ba68f28a-c096-4983-c36d-955f428959b9"
      },
      "execution_count": null,
      "outputs": [
        {
          "name": "stdout",
          "output_type": "stream",
          "text": [
            "Qual a sua idade? 17\n"
          ]
        }
      ]
    },
    {
      "cell_type": "code",
      "source": [
        "pode_dirigir(idade)"
      ],
      "metadata": {
        "colab": {
          "base_uri": "https://localhost:8080/"
        },
        "id": "lbSt3WWPbAfg",
        "outputId": "0330c41b-6e91-4dbc-e01b-19bf8d917b1b"
      },
      "execution_count": null,
      "outputs": [
        {
          "output_type": "stream",
          "name": "stdout",
          "text": [
            "Vai tirar sua habilitação\n"
          ]
        }
      ]
    },
    {
      "cell_type": "code",
      "source": [
        "\n",
        "\n",
        "def pode_dirigir():\n",
        "  idade = int(input('Qual a sua idade? '))\n",
        "  if idade >= 18:\n",
        "    print('Pode dirigir!')\n",
        "  else:\n",
        "   print('Vai tirar sua habilitação')"
      ],
      "metadata": {
        "id": "oxlpPx6UbGMi"
      },
      "execution_count": null,
      "outputs": []
    },
    {
      "cell_type": "code",
      "source": [
        "pode_dirigir()"
      ],
      "metadata": {
        "colab": {
          "base_uri": "https://localhost:8080/"
        },
        "id": "DJamtaHmbkVF",
        "outputId": "5b59174c-3871-4a6c-b96e-c07ddaae08b6"
      },
      "execution_count": null,
      "outputs": [
        {
          "output_type": "stream",
          "name": "stdout",
          "text": [
            "Qual a sua idade? 12\n",
            "Vai tirar sua habilitação\n"
          ]
        }
      ]
    },
    {
      "cell_type": "code",
      "source": [
        "idades = [17, 22, 15, 18, 14, 21, 35, 32, 12, 50]\n"
      ],
      "metadata": {
        "id": "QkGqqAVEbmic"
      },
      "execution_count": null,
      "outputs": []
    },
    {
      "cell_type": "code",
      "source": [],
      "metadata": {
        "id": "7x7gQfaVW1T0"
      },
      "execution_count": null,
      "outputs": []
    },
    {
      "cell_type": "code",
      "source": [
        "idades"
      ],
      "metadata": {
        "colab": {
          "base_uri": "https://localhost:8080/"
        },
        "id": "l4sIEOFQaJhh",
        "outputId": "3dc42df8-f7f9-40ea-c73d-c7a6e1e06c6a"
      },
      "execution_count": null,
      "outputs": [
        {
          "output_type": "execute_result",
          "data": {
            "text/plain": [
              "[17, 22, 15, 18, 14, 21, 35, 32, 12, 50]"
            ]
          },
          "metadata": {},
          "execution_count": 16
        }
      ]
    },
    {
      "cell_type": "code",
      "source": [
        "def dirigir(idade):\n",
        "  if idade >= 18:\n",
        "    print(f'{idade} anos, pode dirigir! ')\n",
        "  else:\n",
        "    print(f'{idade} anos, não pode dirigir! ')\n",
        "\n",
        "for idade in idades:\n",
        "  dirigir(idade)\n",
        "  "
      ],
      "metadata": {
        "colab": {
          "base_uri": "https://localhost:8080/"
        },
        "id": "awMWH3qwcW5n",
        "outputId": "d8ec3073-dc28-475e-d4fc-6e21a7d4e939"
      },
      "execution_count": null,
      "outputs": [
        {
          "output_type": "stream",
          "name": "stdout",
          "text": [
            "17 anos, não pode dirigir! \n",
            "22 anos, pode dirigir! \n",
            "15 anos, não pode dirigir! \n",
            "18 anos, pode dirigir! \n",
            "14 anos, não pode dirigir! \n",
            "21 anos, pode dirigir! \n",
            "35 anos, pode dirigir! \n",
            "32 anos, pode dirigir! \n",
            "12 anos, não pode dirigir! \n",
            "50 anos, pode dirigir! \n"
          ]
        }
      ]
    },
    {
      "cell_type": "code",
      "source": [
        "def habilitado(idades):\n",
        "  for idade in idades:\n",
        "    if idade >= 18:\n",
        "      print(f'{idade} anos, pode dirigir! ')\n",
        "    else:\n",
        "      print(f'{idade} anos, não pode dirigir! ')\n",
        "\n",
        "habilitado(idades)\n"
      ],
      "metadata": {
        "colab": {
          "base_uri": "https://localhost:8080/"
        },
        "id": "Nhs_l63ccewe",
        "outputId": "cdbb509a-3584-4edb-dc7d-bbbb13c69482"
      },
      "execution_count": null,
      "outputs": [
        {
          "output_type": "stream",
          "name": "stdout",
          "text": [
            "17 anos, não pode dirigir! \n",
            "22 anos, pode dirigir! \n",
            "15 anos, não pode dirigir! \n",
            "18 anos, pode dirigir! \n",
            "14 anos, não pode dirigir! \n",
            "21 anos, pode dirigir! \n",
            "35 anos, pode dirigir! \n",
            "32 anos, pode dirigir! \n",
            "12 anos, não pode dirigir! \n",
            "50 anos, pode dirigir! \n"
          ]
        }
      ]
    },
    {
      "cell_type": "code",
      "source": [
        "permissoes = []\n",
        "idades = [12, 22, 40, 17]\n",
        "\n",
        "def dirigir(permissoes, idades):\n",
        "  for idade in idades:\n",
        "    if idade >= 18:\n",
        "      permissoes.append(True)\n",
        "    else:\n",
        "      permissoes.append(False)\n",
        "\n",
        "dirigir(permissoes, idades)  "
      ],
      "metadata": {
        "id": "zU1hBU6Ud3I8"
      },
      "execution_count": null,
      "outputs": []
    },
    {
      "cell_type": "code",
      "source": [
        "permissoes"
      ],
      "metadata": {
        "colab": {
          "base_uri": "https://localhost:8080/"
        },
        "id": "UsgBDsd3gZCB",
        "outputId": "0162f98f-084f-49c2-c4c4-c9f6d639a0c0"
      },
      "execution_count": null,
      "outputs": [
        {
          "output_type": "execute_result",
          "data": {
            "text/plain": [
              "[False, True, True, False]"
            ]
          },
          "metadata": {},
          "execution_count": 24
        }
      ]
    },
    {
      "cell_type": "code",
      "source": [
        "for permissao in permissoes:\n",
        "  if permissao == True:\n",
        "    print('Pode dirigir')\n",
        "  else:\n",
        "    print('Não pode dirigir')  "
      ],
      "metadata": {
        "colab": {
          "base_uri": "https://localhost:8080/"
        },
        "id": "LL8QEEfagccC",
        "outputId": "f682acad-f79a-4095-c23c-4b1e156cb0d4"
      },
      "execution_count": null,
      "outputs": [
        {
          "output_type": "stream",
          "name": "stdout",
          "text": [
            "Não pode dirigir\n",
            "Pode dirigir\n",
            "Pode dirigir\n",
            "Não pode dirigir\n"
          ]
        }
      ]
    },
    {
      "cell_type": "code",
      "source": [
        "lista = ['Caio', 32, True, 'Masculino']\n",
        "\n",
        "for elemento in lista:\n",
        "  print(f'O elemento {elemento} é do tipo, ', type(elemento))"
      ],
      "metadata": {
        "colab": {
          "base_uri": "https://localhost:8080/"
        },
        "id": "Pll5jwHjgy_N",
        "outputId": "35aa7c30-73e1-4234-8cb9-f67775d345b4"
      },
      "execution_count": null,
      "outputs": [
        {
          "output_type": "stream",
          "name": "stdout",
          "text": [
            "O elemento Caio é do tipo,  <class 'str'>\n",
            "O elemento 32 é do tipo,  <class 'int'>\n",
            "O elemento True é do tipo,  <class 'bool'>\n",
            "O elemento Masculino é do tipo,  <class 'str'>\n"
          ]
        }
      ]
    },
    {
      "cell_type": "code",
      "source": [
        "from random import randrange"
      ],
      "metadata": {
        "id": "KyjmBeVgi1gP"
      },
      "execution_count": null,
      "outputs": []
    },
    {
      "cell_type": "code",
      "source": [
        "randrange(0,11)"
      ],
      "metadata": {
        "colab": {
          "base_uri": "https://localhost:8080/"
        },
        "id": "Tu7tHsJt-EBP",
        "outputId": "363510ea-5595-473d-917c-c74f3399f0cc"
      },
      "execution_count": null,
      "outputs": [
        {
          "output_type": "execute_result",
          "data": {
            "text/plain": [
              "10"
            ]
          },
          "metadata": {},
          "execution_count": 9
        }
      ]
    },
    {
      "cell_type": "code",
      "source": [
        "nota_matematica = []\n",
        "\n",
        "for nota in range(8):\n",
        "  nota_matematica.append(randrange(1,11))\n",
        "\n",
        "nota_matematica"
      ],
      "metadata": {
        "colab": {
          "base_uri": "https://localhost:8080/"
        },
        "id": "mnNtH-QR-Xk_",
        "outputId": "b0aec5aa-1ea9-47fa-b373-99b6aa458c02"
      },
      "execution_count": null,
      "outputs": [
        {
          "output_type": "execute_result",
          "data": {
            "text/plain": [
              "[7, 10, 6, 9, 7, 8, 6, 7]"
            ]
          },
          "metadata": {},
          "execution_count": 14
        }
      ]
    },
    {
      "cell_type": "code",
      "source": [
        "import matplotlib.pyplot as plt\n"
      ],
      "metadata": {
        "id": "s-jgju8eNjM-"
      },
      "execution_count": null,
      "outputs": []
    },
    {
      "cell_type": "code",
      "source": [
        "x = list(range(1,9))\n",
        "y = nota_matematica\n",
        "\n",
        "plt.plot(x, y, marker=\"o\")\n",
        "plt.title('Grafic')\n",
        "plt.show()\n"
      ],
      "metadata": {
        "colab": {
          "base_uri": "https://localhost:8080/",
          "height": 281
        },
        "id": "ZyssVyjjPBpI",
        "outputId": "9d10b325-491d-4768-eca7-5c1cc39c9ccb"
      },
      "execution_count": null,
      "outputs": [
        {
          "output_type": "display_data",
          "data": {
            "text/plain": [
              "<Figure size 432x288 with 1 Axes>"
            ],
            "image/png": "[encoded data removed]"
          },
          "metadata": {
            "needs_background": "light"
          }
        }
      ]
    },
    {
      "cell_type": "code",
      "source": [
        "#Iniciando em Numpy\n"
      ],
      "metadata": {
        "id": "Jopv2e81PTT_"
      },
      "execution_count": null,
      "outputs": []
    },
    {
      "cell_type": "code",
      "source": [
        "!python -V"
      ],
      "metadata": {
        "id": "0vGQoEdMSBzZ",
        "outputId": "9df5f824-72dd-46cc-fc39-830f060a0588",
        "colab": {
          "base_uri": "https://localhost:8080/"
        }
      },
      "execution_count": null,
      "outputs": [
        {
          "output_type": "stream",
          "name": "stdout",
          "text": [
            "Python 3.8.10\n"
          ]
        }
      ]
    },
    {
      "cell_type": "code",
      "source": [],
      "metadata": {
        "id": "eW6dQSI5TmIz"
      },
      "execution_count": null,
      "outputs": []
    }
  ]
}